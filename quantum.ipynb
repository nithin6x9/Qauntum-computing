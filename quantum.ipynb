{
  "nbformat": 4,
  "nbformat_minor": 0,
  "metadata": {
    "colab": {
      "provenance": []
    },
    "kernelspec": {
      "name": "python3",
      "display_name": "Python 3"
    },
    "language_info": {
      "name": "python"
    }
  },
  "cells": [
    {
      "cell_type": "code",
      "execution_count": 1,
      "metadata": {
        "colab": {
          "base_uri": "https://localhost:8080/"
        },
        "id": "s-PJgkD7OosX",
        "outputId": "88267747-9b07-46dd-d7d1-0f55e333c849"
      },
      "outputs": [
        {
          "output_type": "stream",
          "name": "stdout",
          "text": [
            "Collecting qiskit\n",
            "  Downloading qiskit-1.1.1-cp38-abi3-manylinux_2_17_x86_64.manylinux2014_x86_64.whl (4.3 MB)\n",
            "\u001b[2K     \u001b[90m━━━━━━━━━━━━━━━━━━━━━━━━━━━━━━━━━━━━━━━━\u001b[0m \u001b[32m4.3/4.3 MB\u001b[0m \u001b[31m10.3 MB/s\u001b[0m eta \u001b[36m0:00:00\u001b[0m\n",
            "\u001b[?25hCollecting rustworkx>=0.14.0 (from qiskit)\n",
            "  Downloading rustworkx-0.14.2-cp310-cp310-manylinux_2_17_x86_64.manylinux2014_x86_64.whl (2.1 MB)\n",
            "\u001b[2K     \u001b[90m━━━━━━━━━━━━━━━━━━━━━━━━━━━━━━━━━━━━━━━━\u001b[0m \u001b[32m2.1/2.1 MB\u001b[0m \u001b[31m15.4 MB/s\u001b[0m eta \u001b[36m0:00:00\u001b[0m\n",
            "\u001b[?25hRequirement already satisfied: numpy<3,>=1.17 in /usr/local/lib/python3.10/dist-packages (from qiskit) (1.25.2)\n",
            "Requirement already satisfied: scipy>=1.5 in /usr/local/lib/python3.10/dist-packages (from qiskit) (1.11.4)\n",
            "Requirement already satisfied: sympy>=1.3 in /usr/local/lib/python3.10/dist-packages (from qiskit) (1.12.1)\n",
            "Collecting dill>=0.3 (from qiskit)\n",
            "  Downloading dill-0.3.8-py3-none-any.whl (116 kB)\n",
            "\u001b[2K     \u001b[90m━━━━━━━━━━━━━━━━━━━━━━━━━━━━━━━━━━━━━━━━\u001b[0m \u001b[32m116.3/116.3 kB\u001b[0m \u001b[31m9.3 MB/s\u001b[0m eta \u001b[36m0:00:00\u001b[0m\n",
            "\u001b[?25hRequirement already satisfied: python-dateutil>=2.8.0 in /usr/local/lib/python3.10/dist-packages (from qiskit) (2.8.2)\n",
            "Collecting stevedore>=3.0.0 (from qiskit)\n",
            "  Downloading stevedore-5.2.0-py3-none-any.whl (49 kB)\n",
            "\u001b[2K     \u001b[90m━━━━━━━━━━━━━━━━━━━━━━━━━━━━━━━━━━━━━━━━\u001b[0m \u001b[32m49.7/49.7 kB\u001b[0m \u001b[31m4.1 MB/s\u001b[0m eta \u001b[36m0:00:00\u001b[0m\n",
            "\u001b[?25hRequirement already satisfied: typing-extensions in /usr/local/lib/python3.10/dist-packages (from qiskit) (4.12.2)\n",
            "Collecting symengine>=0.11 (from qiskit)\n",
            "  Downloading symengine-0.11.0-cp310-cp310-manylinux_2_12_x86_64.manylinux2010_x86_64.whl (39.4 MB)\n",
            "\u001b[2K     \u001b[90m━━━━━━━━━━━━━━━━━━━━━━━━━━━━━━━━━━━━━━━━\u001b[0m \u001b[32m39.4/39.4 MB\u001b[0m \u001b[31m9.8 MB/s\u001b[0m eta \u001b[36m0:00:00\u001b[0m\n",
            "\u001b[?25hRequirement already satisfied: six>=1.5 in /usr/local/lib/python3.10/dist-packages (from python-dateutil>=2.8.0->qiskit) (1.16.0)\n",
            "Collecting pbr!=2.1.0,>=2.0.0 (from stevedore>=3.0.0->qiskit)\n",
            "  Downloading pbr-6.0.0-py2.py3-none-any.whl (107 kB)\n",
            "\u001b[2K     \u001b[90m━━━━━━━━━━━━━━━━━━━━━━━━━━━━━━━━━━━━━━━━\u001b[0m \u001b[32m107.5/107.5 kB\u001b[0m \u001b[31m11.1 MB/s\u001b[0m eta \u001b[36m0:00:00\u001b[0m\n",
            "\u001b[?25hRequirement already satisfied: mpmath<1.4.0,>=1.1.0 in /usr/local/lib/python3.10/dist-packages (from sympy>=1.3->qiskit) (1.3.0)\n",
            "Installing collected packages: symengine, rustworkx, pbr, dill, stevedore, qiskit\n",
            "Successfully installed dill-0.3.8 pbr-6.0.0 qiskit-1.1.1 rustworkx-0.14.2 stevedore-5.2.0 symengine-0.11.0\n",
            "Collecting qiskit-aer\n",
            "  Downloading qiskit_aer-0.14.2-cp310-cp310-manylinux_2_17_x86_64.manylinux2014_x86_64.whl (12.4 MB)\n",
            "\u001b[2K     \u001b[90m━━━━━━━━━━━━━━━━━━━━━━━━━━━━━━━━━━━━━━━━\u001b[0m \u001b[32m12.4/12.4 MB\u001b[0m \u001b[31m20.4 MB/s\u001b[0m eta \u001b[36m0:00:00\u001b[0m\n",
            "\u001b[?25hRequirement already satisfied: qiskit>=0.45.2 in /usr/local/lib/python3.10/dist-packages (from qiskit-aer) (1.1.1)\n",
            "Requirement already satisfied: numpy>=1.16.3 in /usr/local/lib/python3.10/dist-packages (from qiskit-aer) (1.25.2)\n",
            "Requirement already satisfied: scipy>=1.0 in /usr/local/lib/python3.10/dist-packages (from qiskit-aer) (1.11.4)\n",
            "Requirement already satisfied: psutil>=5 in /usr/local/lib/python3.10/dist-packages (from qiskit-aer) (5.9.5)\n",
            "Requirement already satisfied: rustworkx>=0.14.0 in /usr/local/lib/python3.10/dist-packages (from qiskit>=0.45.2->qiskit-aer) (0.14.2)\n",
            "Requirement already satisfied: sympy>=1.3 in /usr/local/lib/python3.10/dist-packages (from qiskit>=0.45.2->qiskit-aer) (1.12.1)\n",
            "Requirement already satisfied: dill>=0.3 in /usr/local/lib/python3.10/dist-packages (from qiskit>=0.45.2->qiskit-aer) (0.3.8)\n",
            "Requirement already satisfied: python-dateutil>=2.8.0 in /usr/local/lib/python3.10/dist-packages (from qiskit>=0.45.2->qiskit-aer) (2.8.2)\n",
            "Requirement already satisfied: stevedore>=3.0.0 in /usr/local/lib/python3.10/dist-packages (from qiskit>=0.45.2->qiskit-aer) (5.2.0)\n",
            "Requirement already satisfied: typing-extensions in /usr/local/lib/python3.10/dist-packages (from qiskit>=0.45.2->qiskit-aer) (4.12.2)\n",
            "Requirement already satisfied: symengine>=0.11 in /usr/local/lib/python3.10/dist-packages (from qiskit>=0.45.2->qiskit-aer) (0.11.0)\n",
            "Requirement already satisfied: six>=1.5 in /usr/local/lib/python3.10/dist-packages (from python-dateutil>=2.8.0->qiskit>=0.45.2->qiskit-aer) (1.16.0)\n",
            "Requirement already satisfied: pbr!=2.1.0,>=2.0.0 in /usr/local/lib/python3.10/dist-packages (from stevedore>=3.0.0->qiskit>=0.45.2->qiskit-aer) (6.0.0)\n",
            "Requirement already satisfied: mpmath<1.4.0,>=1.1.0 in /usr/local/lib/python3.10/dist-packages (from sympy>=1.3->qiskit>=0.45.2->qiskit-aer) (1.3.0)\n",
            "Installing collected packages: qiskit-aer\n",
            "Successfully installed qiskit-aer-0.14.2\n",
            "Collecting qiskit-ibm-runtime\n",
            "  Downloading qiskit_ibm_runtime-0.24.1-py3-none-any.whl (2.9 MB)\n",
            "\u001b[2K     \u001b[90m━━━━━━━━━━━━━━━━━━━━━━━━━━━━━━━━━━━━━━━━\u001b[0m \u001b[32m2.9/2.9 MB\u001b[0m \u001b[31m10.2 MB/s\u001b[0m eta \u001b[36m0:00:00\u001b[0m\n",
            "\u001b[?25hRequirement already satisfied: requests>=2.19 in /usr/local/lib/python3.10/dist-packages (from qiskit-ibm-runtime) (2.31.0)\n",
            "Collecting requests-ntlm>=1.1.0 (from qiskit-ibm-runtime)\n",
            "  Downloading requests_ntlm-1.3.0-py3-none-any.whl (6.6 kB)\n",
            "Requirement already satisfied: numpy>=1.13 in /usr/local/lib/python3.10/dist-packages (from qiskit-ibm-runtime) (1.25.2)\n",
            "Requirement already satisfied: urllib3>=1.21.1 in /usr/local/lib/python3.10/dist-packages (from qiskit-ibm-runtime) (2.0.7)\n",
            "Requirement already satisfied: python-dateutil>=2.8.0 in /usr/local/lib/python3.10/dist-packages (from qiskit-ibm-runtime) (2.8.2)\n",
            "Requirement already satisfied: websocket-client>=1.5.1 in /usr/local/lib/python3.10/dist-packages (from qiskit-ibm-runtime) (1.8.0)\n",
            "Collecting ibm-platform-services>=0.22.6 (from qiskit-ibm-runtime)\n",
            "  Downloading ibm-platform-services-0.54.1.tar.gz (324 kB)\n",
            "\u001b[2K     \u001b[90m━━━━━━━━━━━━━━━━━━━━━━━━━━━━━━━━━━━━━━━━\u001b[0m \u001b[32m324.4/324.4 kB\u001b[0m \u001b[31m28.7 MB/s\u001b[0m eta \u001b[36m0:00:00\u001b[0m\n",
            "\u001b[?25h  Installing build dependencies ... \u001b[?25l\u001b[?25hdone\n",
            "  Getting requirements to build wheel ... \u001b[?25l\u001b[?25hdone\n",
            "  Preparing metadata (pyproject.toml) ... \u001b[?25l\u001b[?25hdone\n",
            "Requirement already satisfied: pydantic in /usr/local/lib/python3.10/dist-packages (from qiskit-ibm-runtime) (2.7.4)\n",
            "Requirement already satisfied: qiskit>=1.1.0 in /usr/local/lib/python3.10/dist-packages (from qiskit-ibm-runtime) (1.1.1)\n",
            "Collecting ibm-cloud-sdk-core<4.0.0,>=3.19.2 (from ibm-platform-services>=0.22.6->qiskit-ibm-runtime)\n",
            "  Downloading ibm-cloud-sdk-core-3.20.1.tar.gz (62 kB)\n",
            "\u001b[2K     \u001b[90m━━━━━━━━━━━━━━━━━━━━━━━━━━━━━━━━━━━━━━━━\u001b[0m \u001b[32m62.1/62.1 kB\u001b[0m \u001b[31m7.4 MB/s\u001b[0m eta \u001b[36m0:00:00\u001b[0m\n",
            "\u001b[?25h  Installing build dependencies ... \u001b[?25l\u001b[?25hdone\n",
            "  Getting requirements to build wheel ... \u001b[?25l\u001b[?25hdone\n",
            "  Preparing metadata (pyproject.toml) ... \u001b[?25l\u001b[?25hdone\n",
            "Requirement already satisfied: six>=1.5 in /usr/local/lib/python3.10/dist-packages (from python-dateutil>=2.8.0->qiskit-ibm-runtime) (1.16.0)\n",
            "Requirement already satisfied: rustworkx>=0.14.0 in /usr/local/lib/python3.10/dist-packages (from qiskit>=1.1.0->qiskit-ibm-runtime) (0.14.2)\n",
            "Requirement already satisfied: scipy>=1.5 in /usr/local/lib/python3.10/dist-packages (from qiskit>=1.1.0->qiskit-ibm-runtime) (1.11.4)\n",
            "Requirement already satisfied: sympy>=1.3 in /usr/local/lib/python3.10/dist-packages (from qiskit>=1.1.0->qiskit-ibm-runtime) (1.12.1)\n",
            "Requirement already satisfied: dill>=0.3 in /usr/local/lib/python3.10/dist-packages (from qiskit>=1.1.0->qiskit-ibm-runtime) (0.3.8)\n",
            "Requirement already satisfied: stevedore>=3.0.0 in /usr/local/lib/python3.10/dist-packages (from qiskit>=1.1.0->qiskit-ibm-runtime) (5.2.0)\n",
            "Requirement already satisfied: typing-extensions in /usr/local/lib/python3.10/dist-packages (from qiskit>=1.1.0->qiskit-ibm-runtime) (4.12.2)\n",
            "Requirement already satisfied: symengine>=0.11 in /usr/local/lib/python3.10/dist-packages (from qiskit>=1.1.0->qiskit-ibm-runtime) (0.11.0)\n",
            "Requirement already satisfied: charset-normalizer<4,>=2 in /usr/local/lib/python3.10/dist-packages (from requests>=2.19->qiskit-ibm-runtime) (3.3.2)\n",
            "Requirement already satisfied: idna<4,>=2.5 in /usr/local/lib/python3.10/dist-packages (from requests>=2.19->qiskit-ibm-runtime) (3.7)\n",
            "Requirement already satisfied: certifi>=2017.4.17 in /usr/local/lib/python3.10/dist-packages (from requests>=2.19->qiskit-ibm-runtime) (2024.6.2)\n",
            "Requirement already satisfied: cryptography>=1.3 in /usr/local/lib/python3.10/dist-packages (from requests-ntlm>=1.1.0->qiskit-ibm-runtime) (42.0.8)\n",
            "Collecting pyspnego>=0.4.0 (from requests-ntlm>=1.1.0->qiskit-ibm-runtime)\n",
            "  Downloading pyspnego-0.11.0-py3-none-any.whl (130 kB)\n",
            "\u001b[2K     \u001b[90m━━━━━━━━━━━━━━━━━━━━━━━━━━━━━━━━━━━━━━━━\u001b[0m \u001b[32m130.4/130.4 kB\u001b[0m \u001b[31m16.7 MB/s\u001b[0m eta \u001b[36m0:00:00\u001b[0m\n",
            "\u001b[?25hRequirement already satisfied: annotated-types>=0.4.0 in /usr/local/lib/python3.10/dist-packages (from pydantic->qiskit-ibm-runtime) (0.7.0)\n",
            "Requirement already satisfied: pydantic-core==2.18.4 in /usr/local/lib/python3.10/dist-packages (from pydantic->qiskit-ibm-runtime) (2.18.4)\n",
            "Requirement already satisfied: cffi>=1.12 in /usr/local/lib/python3.10/dist-packages (from cryptography>=1.3->requests-ntlm>=1.1.0->qiskit-ibm-runtime) (1.16.0)\n",
            "Collecting urllib3>=1.21.1 (from qiskit-ibm-runtime)\n",
            "  Downloading urllib3-2.2.2-py3-none-any.whl (121 kB)\n",
            "\u001b[2K     \u001b[90m━━━━━━━━━━━━━━━━━━━━━━━━━━━━━━━━━━━━━━━━\u001b[0m \u001b[32m121.4/121.4 kB\u001b[0m \u001b[31m6.7 MB/s\u001b[0m eta \u001b[36m0:00:00\u001b[0m\n",
            "\u001b[?25hCollecting PyJWT<3.0.0,>=2.8.0 (from ibm-cloud-sdk-core<4.0.0,>=3.19.2->ibm-platform-services>=0.22.6->qiskit-ibm-runtime)\n",
            "  Downloading PyJWT-2.8.0-py3-none-any.whl (22 kB)\n",
            "Requirement already satisfied: pbr!=2.1.0,>=2.0.0 in /usr/local/lib/python3.10/dist-packages (from stevedore>=3.0.0->qiskit>=1.1.0->qiskit-ibm-runtime) (6.0.0)\n",
            "Requirement already satisfied: mpmath<1.4.0,>=1.1.0 in /usr/local/lib/python3.10/dist-packages (from sympy>=1.3->qiskit>=1.1.0->qiskit-ibm-runtime) (1.3.0)\n",
            "Requirement already satisfied: pycparser in /usr/local/lib/python3.10/dist-packages (from cffi>=1.12->cryptography>=1.3->requests-ntlm>=1.1.0->qiskit-ibm-runtime) (2.22)\n",
            "Building wheels for collected packages: ibm-platform-services, ibm-cloud-sdk-core\n",
            "  Building wheel for ibm-platform-services (pyproject.toml) ... \u001b[?25l\u001b[?25hdone\n",
            "  Created wheel for ibm-platform-services: filename=ibm_platform_services-0.54.1-py3-none-any.whl size=340800 sha256=0dc65a247d73d30e394e9efdd2f7235f0c2c4508dc39619d48e8fde82e2e7f59\n",
            "  Stored in directory: /root/.cache/pip/wheels/5e/62/98/600274a9a4f6a7ed92c29c9d8531d046bd43e49ebf096fbce9\n",
            "  Building wheel for ibm-cloud-sdk-core (pyproject.toml) ... \u001b[?25l\u001b[?25hdone\n",
            "  Created wheel for ibm-cloud-sdk-core: filename=ibm_cloud_sdk_core-3.20.1-py3-none-any.whl size=101529 sha256=10ddfa31d4bbdce09c9656440080d6372fe519befbbe55e5afdba01901358d52\n",
            "  Stored in directory: /root/.cache/pip/wheels/b1/80/5b/12af32c69e0bde3322cb9c1809952e8ed9f2a2a39509ee5374\n",
            "Successfully built ibm-platform-services ibm-cloud-sdk-core\n",
            "Installing collected packages: urllib3, PyJWT, pyspnego, ibm-cloud-sdk-core, requests-ntlm, ibm-platform-services, qiskit-ibm-runtime\n",
            "  Attempting uninstall: urllib3\n",
            "    Found existing installation: urllib3 2.0.7\n",
            "    Uninstalling urllib3-2.0.7:\n",
            "      Successfully uninstalled urllib3-2.0.7\n",
            "  Attempting uninstall: PyJWT\n",
            "    Found existing installation: PyJWT 2.3.0\n",
            "    Uninstalling PyJWT-2.3.0:\n",
            "      Successfully uninstalled PyJWT-2.3.0\n",
            "Successfully installed PyJWT-2.8.0 ibm-cloud-sdk-core-3.20.1 ibm-platform-services-0.54.1 pyspnego-0.11.0 qiskit-ibm-runtime-0.24.1 requests-ntlm-1.3.0 urllib3-2.2.2\n",
            "Requirement already satisfied: qiskit[visualization] in /usr/local/lib/python3.10/dist-packages (1.1.1)\n",
            "Requirement already satisfied: rustworkx>=0.14.0 in /usr/local/lib/python3.10/dist-packages (from qiskit[visualization]) (0.14.2)\n",
            "Requirement already satisfied: numpy<3,>=1.17 in /usr/local/lib/python3.10/dist-packages (from qiskit[visualization]) (1.25.2)\n",
            "Requirement already satisfied: scipy>=1.5 in /usr/local/lib/python3.10/dist-packages (from qiskit[visualization]) (1.11.4)\n",
            "Requirement already satisfied: sympy>=1.3 in /usr/local/lib/python3.10/dist-packages (from qiskit[visualization]) (1.12.1)\n",
            "Requirement already satisfied: dill>=0.3 in /usr/local/lib/python3.10/dist-packages (from qiskit[visualization]) (0.3.8)\n",
            "Requirement already satisfied: python-dateutil>=2.8.0 in /usr/local/lib/python3.10/dist-packages (from qiskit[visualization]) (2.8.2)\n",
            "Requirement already satisfied: stevedore>=3.0.0 in /usr/local/lib/python3.10/dist-packages (from qiskit[visualization]) (5.2.0)\n",
            "Requirement already satisfied: typing-extensions in /usr/local/lib/python3.10/dist-packages (from qiskit[visualization]) (4.12.2)\n",
            "Requirement already satisfied: symengine>=0.11 in /usr/local/lib/python3.10/dist-packages (from qiskit[visualization]) (0.11.0)\n",
            "Requirement already satisfied: matplotlib>=3.3 in /usr/local/lib/python3.10/dist-packages (from qiskit[visualization]) (3.7.1)\n",
            "Requirement already satisfied: pydot in /usr/local/lib/python3.10/dist-packages (from qiskit[visualization]) (1.4.2)\n",
            "Requirement already satisfied: Pillow>=4.2.1 in /usr/local/lib/python3.10/dist-packages (from qiskit[visualization]) (9.4.0)\n",
            "Collecting pylatexenc>=1.4 (from qiskit[visualization])\n",
            "  Downloading pylatexenc-2.10.tar.gz (162 kB)\n",
            "\u001b[2K     \u001b[90m━━━━━━━━━━━━━━━━━━━━━━━━━━━━━━━━━━━━━━━━\u001b[0m \u001b[32m162.6/162.6 kB\u001b[0m \u001b[31m1.6 MB/s\u001b[0m eta \u001b[36m0:00:00\u001b[0m\n",
            "\u001b[?25h  Preparing metadata (setup.py) ... \u001b[?25l\u001b[?25hdone\n",
            "Requirement already satisfied: seaborn>=0.9.0 in /usr/local/lib/python3.10/dist-packages (from qiskit[visualization]) (0.13.1)\n",
            "Requirement already satisfied: contourpy>=1.0.1 in /usr/local/lib/python3.10/dist-packages (from matplotlib>=3.3->qiskit[visualization]) (1.2.1)\n",
            "Requirement already satisfied: cycler>=0.10 in /usr/local/lib/python3.10/dist-packages (from matplotlib>=3.3->qiskit[visualization]) (0.12.1)\n",
            "Requirement already satisfied: fonttools>=4.22.0 in /usr/local/lib/python3.10/dist-packages (from matplotlib>=3.3->qiskit[visualization]) (4.53.0)\n",
            "Requirement already satisfied: kiwisolver>=1.0.1 in /usr/local/lib/python3.10/dist-packages (from matplotlib>=3.3->qiskit[visualization]) (1.4.5)\n",
            "Requirement already satisfied: packaging>=20.0 in /usr/local/lib/python3.10/dist-packages (from matplotlib>=3.3->qiskit[visualization]) (24.1)\n",
            "Requirement already satisfied: pyparsing>=2.3.1 in /usr/local/lib/python3.10/dist-packages (from matplotlib>=3.3->qiskit[visualization]) (3.1.2)\n",
            "Requirement already satisfied: six>=1.5 in /usr/local/lib/python3.10/dist-packages (from python-dateutil>=2.8.0->qiskit[visualization]) (1.16.0)\n",
            "Requirement already satisfied: pandas>=1.2 in /usr/local/lib/python3.10/dist-packages (from seaborn>=0.9.0->qiskit[visualization]) (2.0.3)\n",
            "Requirement already satisfied: pbr!=2.1.0,>=2.0.0 in /usr/local/lib/python3.10/dist-packages (from stevedore>=3.0.0->qiskit[visualization]) (6.0.0)\n",
            "Requirement already satisfied: mpmath<1.4.0,>=1.1.0 in /usr/local/lib/python3.10/dist-packages (from sympy>=1.3->qiskit[visualization]) (1.3.0)\n",
            "Requirement already satisfied: pytz>=2020.1 in /usr/local/lib/python3.10/dist-packages (from pandas>=1.2->seaborn>=0.9.0->qiskit[visualization]) (2023.4)\n",
            "Requirement already satisfied: tzdata>=2022.1 in /usr/local/lib/python3.10/dist-packages (from pandas>=1.2->seaborn>=0.9.0->qiskit[visualization]) (2024.1)\n",
            "Building wheels for collected packages: pylatexenc\n",
            "  Building wheel for pylatexenc (setup.py) ... \u001b[?25l\u001b[?25hdone\n",
            "  Created wheel for pylatexenc: filename=pylatexenc-2.10-py3-none-any.whl size=136816 sha256=0ee12b366cdba5393d8dea68a89977d11c00cc26136cae92352739b579091f24\n",
            "  Stored in directory: /root/.cache/pip/wheels/d3/31/8b/e09b0386afd80cfc556c00408c9aeea5c35c4d484a9c762fd5\n",
            "Successfully built pylatexenc\n",
            "Installing collected packages: pylatexenc\n",
            "Successfully installed pylatexenc-2.10\n"
          ]
        }
      ],
      "source": [
        "!pip install qiskit\n",
        "!pip install qiskit-aer\n",
        "!pip install qiskit-ibm-runtime\n",
        "!pip install qiskit[visualization]"
      ]
    },
    {
      "cell_type": "code",
      "source": [
        "!pip install numpy\n",
        "!pip install pandas\n",
        "!pip install matplotlib"
      ],
      "metadata": {
        "colab": {
          "base_uri": "https://localhost:8080/"
        },
        "id": "W7OBo0kVO6_g",
        "outputId": "619b105e-248f-4b30-c3c3-6a3f51b1effb"
      },
      "execution_count": 2,
      "outputs": [
        {
          "output_type": "stream",
          "name": "stdout",
          "text": [
            "Requirement already satisfied: numpy in /usr/local/lib/python3.10/dist-packages (1.25.2)\n",
            "Requirement already satisfied: pandas in /usr/local/lib/python3.10/dist-packages (2.0.3)\n",
            "Requirement already satisfied: python-dateutil>=2.8.2 in /usr/local/lib/python3.10/dist-packages (from pandas) (2.8.2)\n",
            "Requirement already satisfied: pytz>=2020.1 in /usr/local/lib/python3.10/dist-packages (from pandas) (2023.4)\n",
            "Requirement already satisfied: tzdata>=2022.1 in /usr/local/lib/python3.10/dist-packages (from pandas) (2024.1)\n",
            "Requirement already satisfied: numpy>=1.21.0 in /usr/local/lib/python3.10/dist-packages (from pandas) (1.25.2)\n",
            "Requirement already satisfied: six>=1.5 in /usr/local/lib/python3.10/dist-packages (from python-dateutil>=2.8.2->pandas) (1.16.0)\n",
            "Requirement already satisfied: matplotlib in /usr/local/lib/python3.10/dist-packages (3.7.1)\n",
            "Requirement already satisfied: contourpy>=1.0.1 in /usr/local/lib/python3.10/dist-packages (from matplotlib) (1.2.1)\n",
            "Requirement already satisfied: cycler>=0.10 in /usr/local/lib/python3.10/dist-packages (from matplotlib) (0.12.1)\n",
            "Requirement already satisfied: fonttools>=4.22.0 in /usr/local/lib/python3.10/dist-packages (from matplotlib) (4.53.0)\n",
            "Requirement already satisfied: kiwisolver>=1.0.1 in /usr/local/lib/python3.10/dist-packages (from matplotlib) (1.4.5)\n",
            "Requirement already satisfied: numpy>=1.20 in /usr/local/lib/python3.10/dist-packages (from matplotlib) (1.25.2)\n",
            "Requirement already satisfied: packaging>=20.0 in /usr/local/lib/python3.10/dist-packages (from matplotlib) (24.1)\n",
            "Requirement already satisfied: pillow>=6.2.0 in /usr/local/lib/python3.10/dist-packages (from matplotlib) (9.4.0)\n",
            "Requirement already satisfied: pyparsing>=2.3.1 in /usr/local/lib/python3.10/dist-packages (from matplotlib) (3.1.2)\n",
            "Requirement already satisfied: python-dateutil>=2.7 in /usr/local/lib/python3.10/dist-packages (from matplotlib) (2.8.2)\n",
            "Requirement already satisfied: six>=1.5 in /usr/local/lib/python3.10/dist-packages (from python-dateutil>=2.7->matplotlib) (1.16.0)\n"
          ]
        }
      ]
    },
    {
      "cell_type": "code",
      "source": [
        "from qiskit import QuantumCircuit, transpile\n",
        "from qiskit_aer import Aer\n",
        "from qiskit_aer import AerSimulator\n",
        "\n",
        "from qiskit.circuit import Instruction, CircuitInstruction, Qubit, QuantumRegister\n",
        "from qiskit.circuit.library.standard_gates import CXGate, CCXGate, C3XGate, C4XGate, MCXGate\n",
        "\n",
        "import matplotlib.pyplot as plt\n",
        "\n",
        "from qiskit.visualization import plot_histogram\n",
        "\n",
        "import os\n",
        "import sys\n",
        "import math as m\n",
        "import numpy as np\n",
        "import pandas as pd\n",
        "import sympy\n",
        "\n",
        "from functools import *\n",
        "from traceback import format_exc"
      ],
      "metadata": {
        "id": "6Wf4-_gtPyRw"
      },
      "execution_count": 3,
      "outputs": []
    },
    {
      "cell_type": "code",
      "source": [
        "def group(list,subListLen):\n",
        "    if subListLen != 0:\n",
        "        grouped_list = []\n",
        "\n",
        "        try:len_list =len(list)\n",
        "        except TypeError as errordesc:\n",
        "            if repr(errordesc) == 'TypeError(\"objec of type \\'int\\' has no len()\")':\n",
        "                len_list = subListLen+1\n",
        "\n",
        "        for a in range(0,len_list,int(subListLen)):\n",
        "            if type(list) == type(0): grouped_list.append('')\n",
        "            else:grouped_list.append(list[a:a+subListLen])\n",
        "\n",
        "        if grouped_list == []:grouped_list.append('')\n",
        "\n",
        "        return grouped_list\n",
        "\n",
        "    else:\n",
        "        pass\n",
        "def afmtsd(the_list_orginal,chara,ndigits):\n",
        "    #afmtsd - Add For Making The Same Digits\n",
        "    the_list = list(the_list_orginal)\n",
        "    a = [chara]*(ndigits-len(the_list))+the_list\n",
        "\n",
        "    if type(the_list_orginal) == type(''): return''.join(a)\n",
        "\n",
        "    else:\n",
        "        return a\n",
        "\n",
        "\n",
        "def dstatial(the_function,the_list):\n",
        "    #Do Something To All Things In A List\n",
        "    the_new_list = []\n",
        "    for tla in the_list:\n",
        "        the_new_list.append(the_function(tla))\n",
        "\n",
        "    return the_new_list\n",
        "\n",
        "data = [0,1]\n",
        "\n",
        "nbits = 2\n",
        "lendata,digits = len(data),nbits*2\n",
        "\n",
        "numsList = []\n",
        "ProductCBinFinals = []\n",
        "\n",
        "RawTable = []\n",
        "\n",
        "for i in range(lendata**digits):\n",
        "    nums = [data[(i//lendata**d)%lendata]for d in range(digits)[::-1]]\n",
        "    numsGrouped = group(nums,nbits)\n",
        "\n",
        "    nums0 = numsGrouped[0]\n",
        "    nums1 = numsGrouped[1]\n",
        "\n",
        "    A,B = np.sum(2**np.arange(digits//2)[::-1]*nums0),np.sum(2**np.arange(digits//2)[::-1]*nums1)\n",
        "    ProductClassical = A * B\n",
        "\n",
        "    #Convert the Classical product to its binary\n",
        "\n",
        "    ProductCBin = list(afmtsd(bin(ProductClassical)[2:],'0',digits))\n",
        "\n",
        "    #Finalize the Productbin\n",
        "\n",
        "    ProductCBinFinal = dstatial(int,ProductCBin)\n",
        "\n",
        "    numsList += [nums]\n",
        "    ProductCBinFinals += [ProductCBinFinal]\n",
        "\n",
        "    RawTable.append([i,A,B,nums0,nums1,ProductClassical,nums,ProductCBinFinal])\n",
        "\n",
        "pd.set_option('display.max_colwidth',None)\n",
        "#create panfas datafram based on RawTable\n",
        "Table = pd.DataFrame(RawTable,columns=['i','A','B','nums0','nums1','ProductClassical = A*B','Input Qubits','Output Qubits(ProductCBinFinal)'])\n",
        "Table = Table.style.set_properties(**{'text-align':'center'})\n",
        "Table\n"
      ],
      "metadata": {
        "colab": {
          "base_uri": "https://localhost:8080/",
          "height": 551
        },
        "id": "s6yQWclqP_M2",
        "outputId": "e80bcf43-5f34-4c78-d78d-248086aa8945"
      },
      "execution_count": 4,
      "outputs": [
        {
          "output_type": "execute_result",
          "data": {
            "text/plain": [
              "<pandas.io.formats.style.Styler at 0x7a688471b010>"
            ],
            "text/html": [
              "<style type=\"text/css\">\n",
              "#T_9c36f_row0_col0, #T_9c36f_row0_col1, #T_9c36f_row0_col2, #T_9c36f_row0_col3, #T_9c36f_row0_col4, #T_9c36f_row0_col5, #T_9c36f_row0_col6, #T_9c36f_row0_col7, #T_9c36f_row1_col0, #T_9c36f_row1_col1, #T_9c36f_row1_col2, #T_9c36f_row1_col3, #T_9c36f_row1_col4, #T_9c36f_row1_col5, #T_9c36f_row1_col6, #T_9c36f_row1_col7, #T_9c36f_row2_col0, #T_9c36f_row2_col1, #T_9c36f_row2_col2, #T_9c36f_row2_col3, #T_9c36f_row2_col4, #T_9c36f_row2_col5, #T_9c36f_row2_col6, #T_9c36f_row2_col7, #T_9c36f_row3_col0, #T_9c36f_row3_col1, #T_9c36f_row3_col2, #T_9c36f_row3_col3, #T_9c36f_row3_col4, #T_9c36f_row3_col5, #T_9c36f_row3_col6, #T_9c36f_row3_col7, #T_9c36f_row4_col0, #T_9c36f_row4_col1, #T_9c36f_row4_col2, #T_9c36f_row4_col3, #T_9c36f_row4_col4, #T_9c36f_row4_col5, #T_9c36f_row4_col6, #T_9c36f_row4_col7, #T_9c36f_row5_col0, #T_9c36f_row5_col1, #T_9c36f_row5_col2, #T_9c36f_row5_col3, #T_9c36f_row5_col4, #T_9c36f_row5_col5, #T_9c36f_row5_col6, #T_9c36f_row5_col7, #T_9c36f_row6_col0, #T_9c36f_row6_col1, #T_9c36f_row6_col2, #T_9c36f_row6_col3, #T_9c36f_row6_col4, #T_9c36f_row6_col5, #T_9c36f_row6_col6, #T_9c36f_row6_col7, #T_9c36f_row7_col0, #T_9c36f_row7_col1, #T_9c36f_row7_col2, #T_9c36f_row7_col3, #T_9c36f_row7_col4, #T_9c36f_row7_col5, #T_9c36f_row7_col6, #T_9c36f_row7_col7, #T_9c36f_row8_col0, #T_9c36f_row8_col1, #T_9c36f_row8_col2, #T_9c36f_row8_col3, #T_9c36f_row8_col4, #T_9c36f_row8_col5, #T_9c36f_row8_col6, #T_9c36f_row8_col7, #T_9c36f_row9_col0, #T_9c36f_row9_col1, #T_9c36f_row9_col2, #T_9c36f_row9_col3, #T_9c36f_row9_col4, #T_9c36f_row9_col5, #T_9c36f_row9_col6, #T_9c36f_row9_col7, #T_9c36f_row10_col0, #T_9c36f_row10_col1, #T_9c36f_row10_col2, #T_9c36f_row10_col3, #T_9c36f_row10_col4, #T_9c36f_row10_col5, #T_9c36f_row10_col6, #T_9c36f_row10_col7, #T_9c36f_row11_col0, #T_9c36f_row11_col1, #T_9c36f_row11_col2, #T_9c36f_row11_col3, #T_9c36f_row11_col4, #T_9c36f_row11_col5, #T_9c36f_row11_col6, #T_9c36f_row11_col7, #T_9c36f_row12_col0, #T_9c36f_row12_col1, #T_9c36f_row12_col2, #T_9c36f_row12_col3, #T_9c36f_row12_col4, #T_9c36f_row12_col5, #T_9c36f_row12_col6, #T_9c36f_row12_col7, #T_9c36f_row13_col0, #T_9c36f_row13_col1, #T_9c36f_row13_col2, #T_9c36f_row13_col3, #T_9c36f_row13_col4, #T_9c36f_row13_col5, #T_9c36f_row13_col6, #T_9c36f_row13_col7, #T_9c36f_row14_col0, #T_9c36f_row14_col1, #T_9c36f_row14_col2, #T_9c36f_row14_col3, #T_9c36f_row14_col4, #T_9c36f_row14_col5, #T_9c36f_row14_col6, #T_9c36f_row14_col7, #T_9c36f_row15_col0, #T_9c36f_row15_col1, #T_9c36f_row15_col2, #T_9c36f_row15_col3, #T_9c36f_row15_col4, #T_9c36f_row15_col5, #T_9c36f_row15_col6, #T_9c36f_row15_col7 {\n",
              "  text-align: center;\n",
              "}\n",
              "</style>\n",
              "<table id=\"T_9c36f\" class=\"dataframe\">\n",
              "  <thead>\n",
              "    <tr>\n",
              "      <th class=\"blank level0\" >&nbsp;</th>\n",
              "      <th id=\"T_9c36f_level0_col0\" class=\"col_heading level0 col0\" >i</th>\n",
              "      <th id=\"T_9c36f_level0_col1\" class=\"col_heading level0 col1\" >A</th>\n",
              "      <th id=\"T_9c36f_level0_col2\" class=\"col_heading level0 col2\" >B</th>\n",
              "      <th id=\"T_9c36f_level0_col3\" class=\"col_heading level0 col3\" >nums0</th>\n",
              "      <th id=\"T_9c36f_level0_col4\" class=\"col_heading level0 col4\" >nums1</th>\n",
              "      <th id=\"T_9c36f_level0_col5\" class=\"col_heading level0 col5\" >ProductClassical = A*B</th>\n",
              "      <th id=\"T_9c36f_level0_col6\" class=\"col_heading level0 col6\" >Input Qubits</th>\n",
              "      <th id=\"T_9c36f_level0_col7\" class=\"col_heading level0 col7\" >Output Qubits(ProductCBinFinal)</th>\n",
              "    </tr>\n",
              "  </thead>\n",
              "  <tbody>\n",
              "    <tr>\n",
              "      <th id=\"T_9c36f_level0_row0\" class=\"row_heading level0 row0\" >0</th>\n",
              "      <td id=\"T_9c36f_row0_col0\" class=\"data row0 col0\" >0</td>\n",
              "      <td id=\"T_9c36f_row0_col1\" class=\"data row0 col1\" >0</td>\n",
              "      <td id=\"T_9c36f_row0_col2\" class=\"data row0 col2\" >0</td>\n",
              "      <td id=\"T_9c36f_row0_col3\" class=\"data row0 col3\" >[0, 0]</td>\n",
              "      <td id=\"T_9c36f_row0_col4\" class=\"data row0 col4\" >[0, 0]</td>\n",
              "      <td id=\"T_9c36f_row0_col5\" class=\"data row0 col5\" >0</td>\n",
              "      <td id=\"T_9c36f_row0_col6\" class=\"data row0 col6\" >[0, 0, 0, 0]</td>\n",
              "      <td id=\"T_9c36f_row0_col7\" class=\"data row0 col7\" >[0, 0, 0, 0]</td>\n",
              "    </tr>\n",
              "    <tr>\n",
              "      <th id=\"T_9c36f_level0_row1\" class=\"row_heading level0 row1\" >1</th>\n",
              "      <td id=\"T_9c36f_row1_col0\" class=\"data row1 col0\" >1</td>\n",
              "      <td id=\"T_9c36f_row1_col1\" class=\"data row1 col1\" >0</td>\n",
              "      <td id=\"T_9c36f_row1_col2\" class=\"data row1 col2\" >1</td>\n",
              "      <td id=\"T_9c36f_row1_col3\" class=\"data row1 col3\" >[0, 0]</td>\n",
              "      <td id=\"T_9c36f_row1_col4\" class=\"data row1 col4\" >[0, 1]</td>\n",
              "      <td id=\"T_9c36f_row1_col5\" class=\"data row1 col5\" >0</td>\n",
              "      <td id=\"T_9c36f_row1_col6\" class=\"data row1 col6\" >[0, 0, 0, 1]</td>\n",
              "      <td id=\"T_9c36f_row1_col7\" class=\"data row1 col7\" >[0, 0, 0, 0]</td>\n",
              "    </tr>\n",
              "    <tr>\n",
              "      <th id=\"T_9c36f_level0_row2\" class=\"row_heading level0 row2\" >2</th>\n",
              "      <td id=\"T_9c36f_row2_col0\" class=\"data row2 col0\" >2</td>\n",
              "      <td id=\"T_9c36f_row2_col1\" class=\"data row2 col1\" >0</td>\n",
              "      <td id=\"T_9c36f_row2_col2\" class=\"data row2 col2\" >2</td>\n",
              "      <td id=\"T_9c36f_row2_col3\" class=\"data row2 col3\" >[0, 0]</td>\n",
              "      <td id=\"T_9c36f_row2_col4\" class=\"data row2 col4\" >[1, 0]</td>\n",
              "      <td id=\"T_9c36f_row2_col5\" class=\"data row2 col5\" >0</td>\n",
              "      <td id=\"T_9c36f_row2_col6\" class=\"data row2 col6\" >[0, 0, 1, 0]</td>\n",
              "      <td id=\"T_9c36f_row2_col7\" class=\"data row2 col7\" >[0, 0, 0, 0]</td>\n",
              "    </tr>\n",
              "    <tr>\n",
              "      <th id=\"T_9c36f_level0_row3\" class=\"row_heading level0 row3\" >3</th>\n",
              "      <td id=\"T_9c36f_row3_col0\" class=\"data row3 col0\" >3</td>\n",
              "      <td id=\"T_9c36f_row3_col1\" class=\"data row3 col1\" >0</td>\n",
              "      <td id=\"T_9c36f_row3_col2\" class=\"data row3 col2\" >3</td>\n",
              "      <td id=\"T_9c36f_row3_col3\" class=\"data row3 col3\" >[0, 0]</td>\n",
              "      <td id=\"T_9c36f_row3_col4\" class=\"data row3 col4\" >[1, 1]</td>\n",
              "      <td id=\"T_9c36f_row3_col5\" class=\"data row3 col5\" >0</td>\n",
              "      <td id=\"T_9c36f_row3_col6\" class=\"data row3 col6\" >[0, 0, 1, 1]</td>\n",
              "      <td id=\"T_9c36f_row3_col7\" class=\"data row3 col7\" >[0, 0, 0, 0]</td>\n",
              "    </tr>\n",
              "    <tr>\n",
              "      <th id=\"T_9c36f_level0_row4\" class=\"row_heading level0 row4\" >4</th>\n",
              "      <td id=\"T_9c36f_row4_col0\" class=\"data row4 col0\" >4</td>\n",
              "      <td id=\"T_9c36f_row4_col1\" class=\"data row4 col1\" >1</td>\n",
              "      <td id=\"T_9c36f_row4_col2\" class=\"data row4 col2\" >0</td>\n",
              "      <td id=\"T_9c36f_row4_col3\" class=\"data row4 col3\" >[0, 1]</td>\n",
              "      <td id=\"T_9c36f_row4_col4\" class=\"data row4 col4\" >[0, 0]</td>\n",
              "      <td id=\"T_9c36f_row4_col5\" class=\"data row4 col5\" >0</td>\n",
              "      <td id=\"T_9c36f_row4_col6\" class=\"data row4 col6\" >[0, 1, 0, 0]</td>\n",
              "      <td id=\"T_9c36f_row4_col7\" class=\"data row4 col7\" >[0, 0, 0, 0]</td>\n",
              "    </tr>\n",
              "    <tr>\n",
              "      <th id=\"T_9c36f_level0_row5\" class=\"row_heading level0 row5\" >5</th>\n",
              "      <td id=\"T_9c36f_row5_col0\" class=\"data row5 col0\" >5</td>\n",
              "      <td id=\"T_9c36f_row5_col1\" class=\"data row5 col1\" >1</td>\n",
              "      <td id=\"T_9c36f_row5_col2\" class=\"data row5 col2\" >1</td>\n",
              "      <td id=\"T_9c36f_row5_col3\" class=\"data row5 col3\" >[0, 1]</td>\n",
              "      <td id=\"T_9c36f_row5_col4\" class=\"data row5 col4\" >[0, 1]</td>\n",
              "      <td id=\"T_9c36f_row5_col5\" class=\"data row5 col5\" >1</td>\n",
              "      <td id=\"T_9c36f_row5_col6\" class=\"data row5 col6\" >[0, 1, 0, 1]</td>\n",
              "      <td id=\"T_9c36f_row5_col7\" class=\"data row5 col7\" >[0, 0, 0, 1]</td>\n",
              "    </tr>\n",
              "    <tr>\n",
              "      <th id=\"T_9c36f_level0_row6\" class=\"row_heading level0 row6\" >6</th>\n",
              "      <td id=\"T_9c36f_row6_col0\" class=\"data row6 col0\" >6</td>\n",
              "      <td id=\"T_9c36f_row6_col1\" class=\"data row6 col1\" >1</td>\n",
              "      <td id=\"T_9c36f_row6_col2\" class=\"data row6 col2\" >2</td>\n",
              "      <td id=\"T_9c36f_row6_col3\" class=\"data row6 col3\" >[0, 1]</td>\n",
              "      <td id=\"T_9c36f_row6_col4\" class=\"data row6 col4\" >[1, 0]</td>\n",
              "      <td id=\"T_9c36f_row6_col5\" class=\"data row6 col5\" >2</td>\n",
              "      <td id=\"T_9c36f_row6_col6\" class=\"data row6 col6\" >[0, 1, 1, 0]</td>\n",
              "      <td id=\"T_9c36f_row6_col7\" class=\"data row6 col7\" >[0, 0, 1, 0]</td>\n",
              "    </tr>\n",
              "    <tr>\n",
              "      <th id=\"T_9c36f_level0_row7\" class=\"row_heading level0 row7\" >7</th>\n",
              "      <td id=\"T_9c36f_row7_col0\" class=\"data row7 col0\" >7</td>\n",
              "      <td id=\"T_9c36f_row7_col1\" class=\"data row7 col1\" >1</td>\n",
              "      <td id=\"T_9c36f_row7_col2\" class=\"data row7 col2\" >3</td>\n",
              "      <td id=\"T_9c36f_row7_col3\" class=\"data row7 col3\" >[0, 1]</td>\n",
              "      <td id=\"T_9c36f_row7_col4\" class=\"data row7 col4\" >[1, 1]</td>\n",
              "      <td id=\"T_9c36f_row7_col5\" class=\"data row7 col5\" >3</td>\n",
              "      <td id=\"T_9c36f_row7_col6\" class=\"data row7 col6\" >[0, 1, 1, 1]</td>\n",
              "      <td id=\"T_9c36f_row7_col7\" class=\"data row7 col7\" >[0, 0, 1, 1]</td>\n",
              "    </tr>\n",
              "    <tr>\n",
              "      <th id=\"T_9c36f_level0_row8\" class=\"row_heading level0 row8\" >8</th>\n",
              "      <td id=\"T_9c36f_row8_col0\" class=\"data row8 col0\" >8</td>\n",
              "      <td id=\"T_9c36f_row8_col1\" class=\"data row8 col1\" >2</td>\n",
              "      <td id=\"T_9c36f_row8_col2\" class=\"data row8 col2\" >0</td>\n",
              "      <td id=\"T_9c36f_row8_col3\" class=\"data row8 col3\" >[1, 0]</td>\n",
              "      <td id=\"T_9c36f_row8_col4\" class=\"data row8 col4\" >[0, 0]</td>\n",
              "      <td id=\"T_9c36f_row8_col5\" class=\"data row8 col5\" >0</td>\n",
              "      <td id=\"T_9c36f_row8_col6\" class=\"data row8 col6\" >[1, 0, 0, 0]</td>\n",
              "      <td id=\"T_9c36f_row8_col7\" class=\"data row8 col7\" >[0, 0, 0, 0]</td>\n",
              "    </tr>\n",
              "    <tr>\n",
              "      <th id=\"T_9c36f_level0_row9\" class=\"row_heading level0 row9\" >9</th>\n",
              "      <td id=\"T_9c36f_row9_col0\" class=\"data row9 col0\" >9</td>\n",
              "      <td id=\"T_9c36f_row9_col1\" class=\"data row9 col1\" >2</td>\n",
              "      <td id=\"T_9c36f_row9_col2\" class=\"data row9 col2\" >1</td>\n",
              "      <td id=\"T_9c36f_row9_col3\" class=\"data row9 col3\" >[1, 0]</td>\n",
              "      <td id=\"T_9c36f_row9_col4\" class=\"data row9 col4\" >[0, 1]</td>\n",
              "      <td id=\"T_9c36f_row9_col5\" class=\"data row9 col5\" >2</td>\n",
              "      <td id=\"T_9c36f_row9_col6\" class=\"data row9 col6\" >[1, 0, 0, 1]</td>\n",
              "      <td id=\"T_9c36f_row9_col7\" class=\"data row9 col7\" >[0, 0, 1, 0]</td>\n",
              "    </tr>\n",
              "    <tr>\n",
              "      <th id=\"T_9c36f_level0_row10\" class=\"row_heading level0 row10\" >10</th>\n",
              "      <td id=\"T_9c36f_row10_col0\" class=\"data row10 col0\" >10</td>\n",
              "      <td id=\"T_9c36f_row10_col1\" class=\"data row10 col1\" >2</td>\n",
              "      <td id=\"T_9c36f_row10_col2\" class=\"data row10 col2\" >2</td>\n",
              "      <td id=\"T_9c36f_row10_col3\" class=\"data row10 col3\" >[1, 0]</td>\n",
              "      <td id=\"T_9c36f_row10_col4\" class=\"data row10 col4\" >[1, 0]</td>\n",
              "      <td id=\"T_9c36f_row10_col5\" class=\"data row10 col5\" >4</td>\n",
              "      <td id=\"T_9c36f_row10_col6\" class=\"data row10 col6\" >[1, 0, 1, 0]</td>\n",
              "      <td id=\"T_9c36f_row10_col7\" class=\"data row10 col7\" >[0, 1, 0, 0]</td>\n",
              "    </tr>\n",
              "    <tr>\n",
              "      <th id=\"T_9c36f_level0_row11\" class=\"row_heading level0 row11\" >11</th>\n",
              "      <td id=\"T_9c36f_row11_col0\" class=\"data row11 col0\" >11</td>\n",
              "      <td id=\"T_9c36f_row11_col1\" class=\"data row11 col1\" >2</td>\n",
              "      <td id=\"T_9c36f_row11_col2\" class=\"data row11 col2\" >3</td>\n",
              "      <td id=\"T_9c36f_row11_col3\" class=\"data row11 col3\" >[1, 0]</td>\n",
              "      <td id=\"T_9c36f_row11_col4\" class=\"data row11 col4\" >[1, 1]</td>\n",
              "      <td id=\"T_9c36f_row11_col5\" class=\"data row11 col5\" >6</td>\n",
              "      <td id=\"T_9c36f_row11_col6\" class=\"data row11 col6\" >[1, 0, 1, 1]</td>\n",
              "      <td id=\"T_9c36f_row11_col7\" class=\"data row11 col7\" >[0, 1, 1, 0]</td>\n",
              "    </tr>\n",
              "    <tr>\n",
              "      <th id=\"T_9c36f_level0_row12\" class=\"row_heading level0 row12\" >12</th>\n",
              "      <td id=\"T_9c36f_row12_col0\" class=\"data row12 col0\" >12</td>\n",
              "      <td id=\"T_9c36f_row12_col1\" class=\"data row12 col1\" >3</td>\n",
              "      <td id=\"T_9c36f_row12_col2\" class=\"data row12 col2\" >0</td>\n",
              "      <td id=\"T_9c36f_row12_col3\" class=\"data row12 col3\" >[1, 1]</td>\n",
              "      <td id=\"T_9c36f_row12_col4\" class=\"data row12 col4\" >[0, 0]</td>\n",
              "      <td id=\"T_9c36f_row12_col5\" class=\"data row12 col5\" >0</td>\n",
              "      <td id=\"T_9c36f_row12_col6\" class=\"data row12 col6\" >[1, 1, 0, 0]</td>\n",
              "      <td id=\"T_9c36f_row12_col7\" class=\"data row12 col7\" >[0, 0, 0, 0]</td>\n",
              "    </tr>\n",
              "    <tr>\n",
              "      <th id=\"T_9c36f_level0_row13\" class=\"row_heading level0 row13\" >13</th>\n",
              "      <td id=\"T_9c36f_row13_col0\" class=\"data row13 col0\" >13</td>\n",
              "      <td id=\"T_9c36f_row13_col1\" class=\"data row13 col1\" >3</td>\n",
              "      <td id=\"T_9c36f_row13_col2\" class=\"data row13 col2\" >1</td>\n",
              "      <td id=\"T_9c36f_row13_col3\" class=\"data row13 col3\" >[1, 1]</td>\n",
              "      <td id=\"T_9c36f_row13_col4\" class=\"data row13 col4\" >[0, 1]</td>\n",
              "      <td id=\"T_9c36f_row13_col5\" class=\"data row13 col5\" >3</td>\n",
              "      <td id=\"T_9c36f_row13_col6\" class=\"data row13 col6\" >[1, 1, 0, 1]</td>\n",
              "      <td id=\"T_9c36f_row13_col7\" class=\"data row13 col7\" >[0, 0, 1, 1]</td>\n",
              "    </tr>\n",
              "    <tr>\n",
              "      <th id=\"T_9c36f_level0_row14\" class=\"row_heading level0 row14\" >14</th>\n",
              "      <td id=\"T_9c36f_row14_col0\" class=\"data row14 col0\" >14</td>\n",
              "      <td id=\"T_9c36f_row14_col1\" class=\"data row14 col1\" >3</td>\n",
              "      <td id=\"T_9c36f_row14_col2\" class=\"data row14 col2\" >2</td>\n",
              "      <td id=\"T_9c36f_row14_col3\" class=\"data row14 col3\" >[1, 1]</td>\n",
              "      <td id=\"T_9c36f_row14_col4\" class=\"data row14 col4\" >[1, 0]</td>\n",
              "      <td id=\"T_9c36f_row14_col5\" class=\"data row14 col5\" >6</td>\n",
              "      <td id=\"T_9c36f_row14_col6\" class=\"data row14 col6\" >[1, 1, 1, 0]</td>\n",
              "      <td id=\"T_9c36f_row14_col7\" class=\"data row14 col7\" >[0, 1, 1, 0]</td>\n",
              "    </tr>\n",
              "    <tr>\n",
              "      <th id=\"T_9c36f_level0_row15\" class=\"row_heading level0 row15\" >15</th>\n",
              "      <td id=\"T_9c36f_row15_col0\" class=\"data row15 col0\" >15</td>\n",
              "      <td id=\"T_9c36f_row15_col1\" class=\"data row15 col1\" >3</td>\n",
              "      <td id=\"T_9c36f_row15_col2\" class=\"data row15 col2\" >3</td>\n",
              "      <td id=\"T_9c36f_row15_col3\" class=\"data row15 col3\" >[1, 1]</td>\n",
              "      <td id=\"T_9c36f_row15_col4\" class=\"data row15 col4\" >[1, 1]</td>\n",
              "      <td id=\"T_9c36f_row15_col5\" class=\"data row15 col5\" >9</td>\n",
              "      <td id=\"T_9c36f_row15_col6\" class=\"data row15 col6\" >[1, 1, 1, 1]</td>\n",
              "      <td id=\"T_9c36f_row15_col7\" class=\"data row15 col7\" >[1, 0, 0, 1]</td>\n",
              "    </tr>\n",
              "  </tbody>\n",
              "</table>\n"
            ]
          },
          "metadata": {},
          "execution_count": 4
        }
      ]
    },
    {
      "cell_type": "code",
      "source": [
        "w,x,y,z = sympy.symbols('w,x,y,z')\n",
        "minterms = [{w:0,x:1},{y:1,z:1,x:1}]\n",
        "sympy.SOPform([w,x,y,z],minterms)\n"
      ],
      "metadata": {
        "colab": {
          "base_uri": "https://localhost:8080/",
          "height": 38
        },
        "id": "xjwTHrp_gSAw",
        "outputId": "d9ff347a-b956-495d-98a6-be5a367403fd"
      },
      "execution_count": 5,
      "outputs": [
        {
          "output_type": "execute_result",
          "data": {
            "text/plain": [
              "(x & ~w) | (x & y & z)"
            ],
            "text/latex": "$\\displaystyle \\left(x \\wedge \\neg w\\right) \\vee \\left(x \\wedge y \\wedge z\\right)$"
          },
          "metadata": {},
          "execution_count": 5
        }
      ]
    },
    {
      "cell_type": "code",
      "source": [
        "ProductCBinFinalsArr = np.array(ProductCBinFinals)\n",
        "ProductCBinColNum = ProductCBinFinalsArr.shape[1]\n",
        "\n",
        "termsCompr1 = []\n",
        "prodinSOPLen = []\n",
        "\n",
        "# Prepare Raw Table for Boolean Equations\n",
        "RawTable = []\n",
        "\n",
        "for i in range(ProductCBinColNum):\n",
        "    ProductArr = ProductCBinFinalsArr[:, i]\n",
        "    ProductArr1Indices = np.arange(len(ProductArr))[ProductArr == 1]\n",
        "\n",
        "    numsArr = np.array(numsList)\n",
        "    ProductArr1Inputs = numsArr[ProductArr1Indices]\n",
        "\n",
        "    inputNums = ProductArr1Inputs.shape[1]\n",
        "\n",
        "    ProductRawEq1 = []\n",
        "    symbols = [sympy.Symbol('q%s' % QubitIndex) for QubitIndex in range(inputNums)]\n",
        "\n",
        "    for ProductArr1InputsCont in ProductArr1Inputs:\n",
        "        ProductRawEq1.append([{symbols[inputIndex]: ProductArr1InputsCont[inputIndex]} for inputIndex in range(len(ProductArr1InputsCont))])\n",
        "\n",
        "    ProductRawEq2 = np.array(ProductRawEq1)\n",
        "    ProductRawEq3 = ProductRawEq2.flatten().tolist()\n",
        "\n",
        "    SOP = sympy.SOPform(symbols, ProductRawEq3)\n",
        "    SOPProducts = SOP.atoms(sympy.And)\n",
        "\n",
        "    SOP_NAND = sympy.Not(sympy.And(*SOPProducts))\n",
        "\n",
        "    termsList = [tuple(str(SOPProduct).split('&')) for SOPProduct in SOPProducts]\n",
        "    termsCompr1.extend(termsList)\n",
        "    prodinSOPLen.append(len(termsList))\n",
        "\n",
        "    RawTable.append([f'q{i + digits}', SOP_NAND])\n",
        "\n",
        "# Maximize Pandas Column Width\n",
        "pd.set_option('display.max_colwidth', None)\n",
        "\n",
        "# Create Pandas DataFrame based on RawTable\n",
        "Table = pd.DataFrame(RawTable, columns=['Output Qubits', 'Boolean/Logical Equations'])\n",
        "\n",
        "# Align text leftmost\n",
        "Table = Table.style.set_properties(**{'text-align': 'left'})\n",
        "\n",
        "# Align table header center\n",
        "Table = Table.set_table_styles([{'selector': 'th', 'props': [('text-align', 'center')]}])\n",
        "\n",
        "Table"
      ],
      "metadata": {
        "colab": {
          "base_uri": "https://localhost:8080/",
          "height": 175
        },
        "id": "MF4cD9wliv1u",
        "outputId": "b8a31cc1-367d-437f-c96e-12e03f62854e"
      },
      "execution_count": 6,
      "outputs": [
        {
          "output_type": "execute_result",
          "data": {
            "text/plain": [
              "<pandas.io.formats.style.Styler at 0x7a68be217760>"
            ],
            "text/html": [
              "<style type=\"text/css\">\n",
              "#T_207ef th {\n",
              "  text-align: center;\n",
              "}\n",
              "#T_207ef_row0_col0, #T_207ef_row0_col1, #T_207ef_row1_col0, #T_207ef_row1_col1, #T_207ef_row2_col0, #T_207ef_row2_col1, #T_207ef_row3_col0, #T_207ef_row3_col1 {\n",
              "  text-align: left;\n",
              "}\n",
              "</style>\n",
              "<table id=\"T_207ef\" class=\"dataframe\">\n",
              "  <thead>\n",
              "    <tr>\n",
              "      <th class=\"blank level0\" >&nbsp;</th>\n",
              "      <th id=\"T_207ef_level0_col0\" class=\"col_heading level0 col0\" >Output Qubits</th>\n",
              "      <th id=\"T_207ef_level0_col1\" class=\"col_heading level0 col1\" >Boolean/Logical Equations</th>\n",
              "    </tr>\n",
              "  </thead>\n",
              "  <tbody>\n",
              "    <tr>\n",
              "      <th id=\"T_207ef_level0_row0\" class=\"row_heading level0 row0\" >0</th>\n",
              "      <td id=\"T_207ef_row0_col0\" class=\"data row0 col0\" >q4</td>\n",
              "      <td id=\"T_207ef_row0_col1\" class=\"data row0 col1\" >False</td>\n",
              "    </tr>\n",
              "    <tr>\n",
              "      <th id=\"T_207ef_level0_row1\" class=\"row_heading level0 row1\" >1</th>\n",
              "      <td id=\"T_207ef_row1_col0\" class=\"data row1 col0\" >q5</td>\n",
              "      <td id=\"T_207ef_row1_col1\" class=\"data row1 col1\" >False</td>\n",
              "    </tr>\n",
              "    <tr>\n",
              "      <th id=\"T_207ef_level0_row2\" class=\"row_heading level0 row2\" >2</th>\n",
              "      <td id=\"T_207ef_row2_col0\" class=\"data row2 col0\" >q6</td>\n",
              "      <td id=\"T_207ef_row2_col1\" class=\"data row2 col1\" >False</td>\n",
              "    </tr>\n",
              "    <tr>\n",
              "      <th id=\"T_207ef_level0_row3\" class=\"row_heading level0 row3\" >3</th>\n",
              "      <td id=\"T_207ef_row3_col0\" class=\"data row3 col0\" >q7</td>\n",
              "      <td id=\"T_207ef_row3_col1\" class=\"data row3 col1\" >False</td>\n",
              "    </tr>\n",
              "  </tbody>\n",
              "</table>\n"
            ]
          },
          "metadata": {},
          "execution_count": 6
        }
      ]
    },
    {
      "cell_type": "code",
      "source": [
        "termsCompr2 = []\n",
        "RawTable = []\n",
        "for termsCompr1Cont in termsCompr1:\n",
        "    if termsCompr1Cont not in termsCompr2:\n",
        "        termsCompr2.append(termsCompr1Cont)\n",
        "    RawTable.append([termsCompr1Cont])\n",
        "\n",
        "pd.set_option('display.max_colwidth', None)\n",
        "Table = pd.DataFrame(RawTable, columns=['Inner Logical Qubits'])\n",
        "TableStyle1 = Table.style.set_properties(**{'text-align': 'left'})\n",
        "Table.loc['Count'] = Table[['Inner Logical Qubits']].count()\n",
        "\n",
        "qubitNumsInitial = qubitNums\n",
        "qubitNums += len(termsCompr2)\n",
        "print('Number of Qubits:', qubitNums)\n",
        "Table\n"
      ],
      "metadata": {
        "colab": {
          "base_uri": "https://localhost:8080/",
          "height": 106
        },
        "id": "bJCi6UhGCflk",
        "outputId": "2ac5b19b-783b-4286-91c8-bbfa0f7223c8"
      },
      "execution_count": 13,
      "outputs": [
        {
          "output_type": "stream",
          "name": "stdout",
          "text": [
            "Number of Qubits: 20\n"
          ]
        },
        {
          "output_type": "execute_result",
          "data": {
            "text/plain": [
              "       Inner Logical Qubits\n",
              "Count                     0"
            ],
            "text/html": [
              "\n",
              "  <div id=\"df-5a7f9a8a-758d-444f-a8e5-de65e8289e1a\" class=\"colab-df-container\">\n",
              "    <div>\n",
              "<style scoped>\n",
              "    .dataframe tbody tr th:only-of-type {\n",
              "        vertical-align: middle;\n",
              "    }\n",
              "\n",
              "    .dataframe tbody tr th {\n",
              "        vertical-align: top;\n",
              "    }\n",
              "\n",
              "    .dataframe thead th {\n",
              "        text-align: right;\n",
              "    }\n",
              "</style>\n",
              "<table border=\"1\" class=\"dataframe\">\n",
              "  <thead>\n",
              "    <tr style=\"text-align: right;\">\n",
              "      <th></th>\n",
              "      <th>Inner Logical Qubits</th>\n",
              "    </tr>\n",
              "  </thead>\n",
              "  <tbody>\n",
              "    <tr>\n",
              "      <th>Count</th>\n",
              "      <td>0</td>\n",
              "    </tr>\n",
              "  </tbody>\n",
              "</table>\n",
              "</div>\n",
              "    <div class=\"colab-df-buttons\">\n",
              "\n",
              "  <div class=\"colab-df-container\">\n",
              "    <button class=\"colab-df-convert\" onclick=\"convertToInteractive('df-5a7f9a8a-758d-444f-a8e5-de65e8289e1a')\"\n",
              "            title=\"Convert this dataframe to an interactive table.\"\n",
              "            style=\"display:none;\">\n",
              "\n",
              "  <svg xmlns=\"http://www.w3.org/2000/svg\" height=\"24px\" viewBox=\"0 -960 960 960\">\n",
              "    <path d=\"M120-120v-720h720v720H120Zm60-500h600v-160H180v160Zm220 220h160v-160H400v160Zm0 220h160v-160H400v160ZM180-400h160v-160H180v160Zm440 0h160v-160H620v160ZM180-180h160v-160H180v160Zm440 0h160v-160H620v160Z\"/>\n",
              "  </svg>\n",
              "    </button>\n",
              "\n",
              "  <style>\n",
              "    .colab-df-container {\n",
              "      display:flex;\n",
              "      gap: 12px;\n",
              "    }\n",
              "\n",
              "    .colab-df-convert {\n",
              "      background-color: #E8F0FE;\n",
              "      border: none;\n",
              "      border-radius: 50%;\n",
              "      cursor: pointer;\n",
              "      display: none;\n",
              "      fill: #1967D2;\n",
              "      height: 32px;\n",
              "      padding: 0 0 0 0;\n",
              "      width: 32px;\n",
              "    }\n",
              "\n",
              "    .colab-df-convert:hover {\n",
              "      background-color: #E2EBFA;\n",
              "      box-shadow: 0px 1px 2px rgba(60, 64, 67, 0.3), 0px 1px 3px 1px rgba(60, 64, 67, 0.15);\n",
              "      fill: #174EA6;\n",
              "    }\n",
              "\n",
              "    .colab-df-buttons div {\n",
              "      margin-bottom: 4px;\n",
              "    }\n",
              "\n",
              "    [theme=dark] .colab-df-convert {\n",
              "      background-color: #3B4455;\n",
              "      fill: #D2E3FC;\n",
              "    }\n",
              "\n",
              "    [theme=dark] .colab-df-convert:hover {\n",
              "      background-color: #434B5C;\n",
              "      box-shadow: 0px 1px 3px 1px rgba(0, 0, 0, 0.15);\n",
              "      filter: drop-shadow(0px 1px 2px rgba(0, 0, 0, 0.3));\n",
              "      fill: #FFFFFF;\n",
              "    }\n",
              "  </style>\n",
              "\n",
              "    <script>\n",
              "      const buttonEl =\n",
              "        document.querySelector('#df-5a7f9a8a-758d-444f-a8e5-de65e8289e1a button.colab-df-convert');\n",
              "      buttonEl.style.display =\n",
              "        google.colab.kernel.accessAllowed ? 'block' : 'none';\n",
              "\n",
              "      async function convertToInteractive(key) {\n",
              "        const element = document.querySelector('#df-5a7f9a8a-758d-444f-a8e5-de65e8289e1a');\n",
              "        const dataTable =\n",
              "          await google.colab.kernel.invokeFunction('convertToInteractive',\n",
              "                                                    [key], {});\n",
              "        if (!dataTable) return;\n",
              "\n",
              "        const docLinkHtml = 'Like what you see? Visit the ' +\n",
              "          '<a target=\"_blank\" href=https://colab.research.google.com/notebooks/data_table.ipynb>data table notebook</a>'\n",
              "          + ' to learn more about interactive tables.';\n",
              "        element.innerHTML = '';\n",
              "        dataTable['output_type'] = 'display_data';\n",
              "        await google.colab.output.renderOutput(dataTable, element);\n",
              "        const docLink = document.createElement('div');\n",
              "        docLink.innerHTML = docLinkHtml;\n",
              "        element.appendChild(docLink);\n",
              "      }\n",
              "    </script>\n",
              "  </div>\n",
              "\n",
              "\n",
              "  <div id=\"id_92a07e51-ba25-4e27-bdd4-f3f496611b1e\">\n",
              "    <style>\n",
              "      .colab-df-generate {\n",
              "        background-color: #E8F0FE;\n",
              "        border: none;\n",
              "        border-radius: 50%;\n",
              "        cursor: pointer;\n",
              "        display: none;\n",
              "        fill: #1967D2;\n",
              "        height: 32px;\n",
              "        padding: 0 0 0 0;\n",
              "        width: 32px;\n",
              "      }\n",
              "\n",
              "      .colab-df-generate:hover {\n",
              "        background-color: #E2EBFA;\n",
              "        box-shadow: 0px 1px 2px rgba(60, 64, 67, 0.3), 0px 1px 3px 1px rgba(60, 64, 67, 0.15);\n",
              "        fill: #174EA6;\n",
              "      }\n",
              "\n",
              "      [theme=dark] .colab-df-generate {\n",
              "        background-color: #3B4455;\n",
              "        fill: #D2E3FC;\n",
              "      }\n",
              "\n",
              "      [theme=dark] .colab-df-generate:hover {\n",
              "        background-color: #434B5C;\n",
              "        box-shadow: 0px 1px 3px 1px rgba(0, 0, 0, 0.15);\n",
              "        filter: drop-shadow(0px 1px 2px rgba(0, 0, 0, 0.3));\n",
              "        fill: #FFFFFF;\n",
              "      }\n",
              "    </style>\n",
              "    <button class=\"colab-df-generate\" onclick=\"generateWithVariable('Table')\"\n",
              "            title=\"Generate code using this dataframe.\"\n",
              "            style=\"display:none;\">\n",
              "\n",
              "  <svg xmlns=\"http://www.w3.org/2000/svg\" height=\"24px\"viewBox=\"0 0 24 24\"\n",
              "       width=\"24px\">\n",
              "    <path d=\"M7,19H8.4L18.45,9,17,7.55,7,17.6ZM5,21V16.75L18.45,3.32a2,2,0,0,1,2.83,0l1.4,1.43a1.91,1.91,0,0,1,.58,1.4,1.91,1.91,0,0,1-.58,1.4L9.25,21ZM18.45,9,17,7.55Zm-12,3A5.31,5.31,0,0,0,4.9,8.1,5.31,5.31,0,0,0,1,6.5,5.31,5.31,0,0,0,4.9,4.9,5.31,5.31,0,0,0,6.5,1,5.31,5.31,0,0,0,8.1,4.9,5.31,5.31,0,0,0,12,6.5,5.46,5.46,0,0,0,6.5,12Z\"/>\n",
              "  </svg>\n",
              "    </button>\n",
              "    <script>\n",
              "      (() => {\n",
              "      const buttonEl =\n",
              "        document.querySelector('#id_92a07e51-ba25-4e27-bdd4-f3f496611b1e button.colab-df-generate');\n",
              "      buttonEl.style.display =\n",
              "        google.colab.kernel.accessAllowed ? 'block' : 'none';\n",
              "\n",
              "      buttonEl.onclick = () => {\n",
              "        google.colab.notebook.generateWithVariable('Table');\n",
              "      }\n",
              "      })();\n",
              "    </script>\n",
              "  </div>\n",
              "\n",
              "    </div>\n",
              "  </div>\n"
            ],
            "application/vnd.google.colaboratory.intrinsic+json": {
              "type": "dataframe",
              "variable_name": "Table",
              "summary": "{\n  \"name\": \"Table\",\n  \"rows\": 1,\n  \"fields\": [\n    {\n      \"column\": \"Inner Logical Qubits\",\n      \"properties\": {\n        \"dtype\": \"number\",\n        \"std\": null,\n        \"min\": 0,\n        \"max\": 0,\n        \"num_unique_values\": 1,\n        \"samples\": [\n          0\n        ],\n        \"semantic_type\": \"\",\n        \"description\": \"\"\n      }\n    }\n  ]\n}"
            }
          },
          "metadata": {},
          "execution_count": 13
        }
      ]
    },
    {
      "cell_type": "code",
      "source": [
        "'''termsCompr2 = []\n",
        "RawTable = []\n",
        "\n",
        "for termsCompr1Cont in termsCompr1:\n",
        "  if termsCompr1Cont not in termsCompr2:\n",
        "    termsCompr2.append(termsCompr1Cont)\n",
        "    RawTable.append([termsCompr1Cont])\n",
        "\n",
        "pd.set_option('display.max_colwidth',None)\n",
        "Table = pd.DataFrame(RawTable,columns = ['Inner Logical Qubits'])\n",
        "\n",
        "TableStyle1 = Table.style.set_properties(**{'text-align':'left'})\n",
        "\n",
        "Table.loc['Count'] = Table[['Inner Logical Qubits']].count()\n",
        "\n",
        "\n",
        "qubitNumsInitial = qubitNums\n",
        "qubitNums += len(termsCompr2)\n",
        "print('Number of qubits:',qubitNums)'''\n"
      ],
      "metadata": {
        "colab": {
          "base_uri": "https://localhost:8080/"
        },
        "id": "N4ZZKrS9g4NX",
        "outputId": "f4840f51-1c64-438d-f693-c5967133520d"
      },
      "execution_count": 12,
      "outputs": [
        {
          "output_type": "stream",
          "name": "stdout",
          "text": [
            "Number of qubits: 20\n"
          ]
        }
      ]
    },
    {
      "cell_type": "code",
      "source": [
        "termsCompr3 = []\n",
        "for termsCompr2Index in range(len(termsCompr2)):\n",
        "    targetQubit = (termsCompr2Index + qubitNumsInitial,)\n",
        "    QubitMCXGCommand = ()\n",
        "    for controlQubit in termsCompr2[termsCompr2Index]:\n",
        "        controlQubitProfile = controlQubit.split('q')\n",
        "        if controlQubitProfile[0]:\n",
        "            controlQubitProfile = int(controlQubitProfile[1]) + digits * 2\n",
        "        else:\n",
        "            controlQubitProfile = int(controlQubitProfile[1])\n",
        "        QubitMCXGCommand += (controlQubitProfile,)\n",
        "    termsCompr3.append(QubitMCXGCommand + targetQubit)\n",
        "\n",
        "print(termsCompr3)\n",
        "\n",
        "[(0, 1, 2, 3, 12), (0, 2, 11, 13), (0, 2, 9, 14), (1, 2, 11, 15), (1, 2, 8, 16), (0, 3, 9, 17), (0, 3, 10, 18), (1, 3,\n",
        "19)]"
      ],
      "metadata": {
        "colab": {
          "base_uri": "https://localhost:8080/"
        },
        "id": "jGeZtQoTkLzP",
        "outputId": "1a5f7b5c-83ba-4e2a-988b-fef2b9d65ba9"
      },
      "execution_count": 24,
      "outputs": [
        {
          "output_type": "stream",
          "name": "stdout",
          "text": [
            "[]\n"
          ]
        },
        {
          "output_type": "execute_result",
          "data": {
            "text/plain": [
              "[(0, 1, 2, 3, 12),\n",
              " (0, 2, 11, 13),\n",
              " (0, 2, 9, 14),\n",
              " (1, 2, 11, 15),\n",
              " (1, 2, 8, 16),\n",
              " (0, 3, 9, 17),\n",
              " (0, 3, 10, 18),\n",
              " (1, 3, 19)]"
            ]
          },
          "metadata": {},
          "execution_count": 24
        }
      ]
    },
    {
      "cell_type": "code",
      "source": [
        "  def print_exec(command,sep='',end='\\n'):\n",
        "        print(command,sep=sep,end=end)\n",
        "        exec(command)"
      ],
      "metadata": {
        "id": "nfDZIaFakXgd"
      },
      "execution_count": 16,
      "outputs": []
    },
    {
      "cell_type": "code",
      "source": [
        "mCirc = QuantumCircuit(qubitNums,digits)\n",
        ""
      ],
      "metadata": {
        "id": "Srrb4yS8kbom"
      },
      "execution_count": 17,
      "outputs": []
    },
    {
      "cell_type": "code",
      "source": [
        "for InputNum in range(digits):\n",
        "  inverseInputNum = InputNum+digits*2\n",
        "  print_exec(f'mCirc.cx({InputNum},{inverseInputNum})')\n",
        "  print_exec(f'mCirc.x({inverseInputNum})')\n",
        "mCirc.cx(0,8)\n",
        "mCirc.x(8)\n",
        "mCirc.cx(1,9)\n",
        "mCirc.x(9)\n",
        "mCirc.cx(2,10)\n",
        "mCirc.x(10)\n",
        "mCirc.cx(3,11)\n",
        "mCirc.x(11)"
      ],
      "metadata": {
        "colab": {
          "base_uri": "https://localhost:8080/"
        },
        "id": "8uaQryuzkqj4",
        "outputId": "f70e61f0-e12b-41cc-fba6-a14dd60024fe"
      },
      "execution_count": 35,
      "outputs": [
        {
          "output_type": "stream",
          "name": "stdout",
          "text": [
            "mCirc.cx(0,8)\n",
            "mCirc.x(8)\n",
            "mCirc.cx(1,9)\n",
            "mCirc.x(9)\n",
            "mCirc.cx(2,10)\n",
            "mCirc.x(10)\n",
            "mCirc.cx(3,11)\n",
            "mCirc.x(11)\n"
          ]
        },
        {
          "output_type": "execute_result",
          "data": {
            "text/plain": [
              "<qiskit.circuit.instructionset.InstructionSet at 0x7dbf743f14e0>"
            ]
          },
          "metadata": {},
          "execution_count": 35
        }
      ]
    },
    {
      "cell_type": "code",
      "source": [
        "operationSOP1 = []\n",
        "operationSOP1Checkpoint = 0\n",
        "for operationSOP1Index in prodinSOPLen:\n",
        "  slicedTerms = termsCompr3[operationSOP1Checkpoint:operationSOP1Checkpoint+operationSOP1Index]\n",
        "  operationSOP1.append(slicedTerms)\n",
        "  operationSOP1Checkpoint += operationSOP1Index\n",
        "\n",
        "print(prodinSOPLen,end = '\\n\\n\\n')\n",
        "print(operationSOP1,end='\\n\\n\\n')\n",
        "[1, 2, 4, 1]\n",
        "[[(0, 1, 2, 3, 12)], [(0, 2, 11, 13), (0, 2, 9, 14)], [(1, 2, 11, 15), (1, 2, 8, 16), (0, 3, 9, 17), (0, 3, 10, 18)], [(1,\n",
        "3, 19)]]"
      ],
      "metadata": {
        "colab": {
          "base_uri": "https://localhost:8080/"
        },
        "id": "uXl1ovoulEDW",
        "outputId": "8ca8e01d-3db5-4fb6-82b8-3921f046dce8"
      },
      "execution_count": 23,
      "outputs": [
        {
          "output_type": "stream",
          "name": "stdout",
          "text": [
            "[0, 0, 0, 0]\n",
            "\n",
            "\n",
            "[[], [], [], []]\n",
            "\n",
            "\n"
          ]
        },
        {
          "output_type": "execute_result",
          "data": {
            "text/plain": [
              "[[(0, 1, 2, 3, 12)],\n",
              " [(0, 2, 11, 13), (0, 2, 9, 14)],\n",
              " [(1, 2, 11, 15), (1, 2, 8, 16), (0, 3, 9, 17), (0, 3, 10, 18)],\n",
              " [(1, 3, 19)]]"
            ]
          },
          "metadata": {},
          "execution_count": 23
        }
      ]
    },
    {
      "cell_type": "code",
      "source": [
        "for operationSOP1Cont in operationSOP1:\n",
        "    for SOPProduct in operationSOP1Cont:\n",
        "        print_exec(f'mCirc.append(MCXGate(num_ctrl_qubits={len(SOPProduct)-1}), {SOPProduct})')\n",
        "        print_exec(f'mCirc.x({SOPProduct[-1]})', end='\\n\\n')\n",
        "    print()\n",
        "\n",
        "mCirc.append(MCXGate(num_ctrl_qubits=4), (0, 1, 2, 3, 12))\n",
        "mCirc.x(12)\n",
        "mCirc.append(MCXGate(num_ctrl_qubits=3), (0, 2, 11, 13))\n",
        "mCirc.x(13)\n",
        "mCirc.append(MCXGate(num_ctrl_qubits=3), (0, 2, 9, 14))\n",
        "mCirc.x(14)\n",
        "mCirc.append(MCXGate(num_ctrl_qubits=3), (1, 2, 11, 15))\n",
        "mCirc.x(15)\n",
        "mCirc.append(MCXGate(num_ctrl_qubits=3), (1, 2, 8, 16))\n",
        "mCirc.x(16)\n",
        "mCirc.append(MCXGate(num_ctrl_qubits=3), (0, 3, 9, 17))\n",
        "mCirc.x(17)\n",
        "mCirc.append(MCXGate(num_ctrl_qubits=3), (0, 3, 10, 18))\n",
        "mCirc.x(18)\n",
        "mCirc.append(MCXGate(num_ctrl_qubits=2), (1, 3, 19))\n",
        "mCirc.x(19)\n"
      ],
      "metadata": {
        "colab": {
          "base_uri": "https://localhost:8080/"
        },
        "id": "ziikZ7P0-7pL",
        "outputId": "d27f9b77-4832-47b3-8967-78a051d88f47"
      },
      "execution_count": 21,
      "outputs": [
        {
          "output_type": "stream",
          "name": "stdout",
          "text": [
            "\n",
            "\n",
            "\n",
            "\n"
          ]
        },
        {
          "output_type": "execute_result",
          "data": {
            "text/plain": [
              "<qiskit.circuit.instructionset.InstructionSet at 0x7a6884721180>"
            ]
          },
          "metadata": {},
          "execution_count": 21
        }
      ]
    },
    {
      "cell_type": "code",
      "source": [
        "operationSOP2 = []\n",
        "for operationSOP1Index in range(len(operationSOP1)):\n",
        "    operationSOP1Cont = operationSOP1[operationSOP1Index]\n",
        "    opSOP1ControlQubits = tuple(operationSOP1aCont[-1] for operationSOP1aCont in operationSOP1Cont)\n",
        "    opSOP1TargetQubits = (operationSOP1Index + digits,)\n",
        "    operationSOP2Cont = opSOP1ControlQubits + opSOP1TargetQubits\n",
        "    operationSOP2.append(operationSOP2Cont)\n",
        "\n",
        "print(operationSOP2, end='\\n\\n\\n')\n",
        "[(12, 4), (13, 14, 5), (15, 16, 17, 18, 6), (19, 7)]\n"
      ],
      "metadata": {
        "colab": {
          "base_uri": "https://localhost:8080/"
        },
        "id": "hPgEoGNlELAW",
        "outputId": "7f03a5bc-824b-43c7-c4fb-bfd762e93284"
      },
      "execution_count": 22,
      "outputs": [
        {
          "output_type": "stream",
          "name": "stdout",
          "text": [
            "[(4,), (5,), (6,), (7,)]\n",
            "\n",
            "\n"
          ]
        },
        {
          "output_type": "execute_result",
          "data": {
            "text/plain": [
              "[(12, 4), (13, 14, 5), (15, 16, 17, 18, 6), (19, 7)]"
            ]
          },
          "metadata": {},
          "execution_count": 22
        }
      ]
    },
    {
      "cell_type": "code",
      "source": [
        "for operationSOP2Cont in operationSOP2:\n",
        "    if len(operationSOP2Cont) > 1:\n",
        "        print_exec(f'mCirc.append(MCXGate(num_ctrl_qubits={len(operationSOP2Cont)-1}), {operationSOP2Cont})')\n",
        "        print_exec(f'mCirc.x({operationSOP2Cont[-1]})', end='\\n\\n')\n",
        "\n",
        "mCirc.append(MCXGate(num_ctrl_qubits=1), (12, 4))\n",
        "mCirc.x(4)\n",
        "mCirc.append(MCXGate(num_ctrl_qubits=2), (13, 14, 5))\n",
        "mCirc.x(5)\n",
        "mCirc.append(MCXGate(num_ctrl_qubits=4), (15, 16, 17, 18, 6))\n",
        "mCirc.x(6)\n",
        "mCirc.append(MCXGate(num_ctrl_qubits=1), (19, 7))\n",
        "mCirc.x(7)\n"
      ],
      "metadata": {
        "colab": {
          "base_uri": "https://localhost:8080/"
        },
        "id": "jeag-U2LGP02",
        "outputId": "503931ea-280a-46a2-c90c-1e1c326e8061"
      },
      "execution_count": 28,
      "outputs": [
        {
          "output_type": "execute_result",
          "data": {
            "text/plain": [
              "<qiskit.circuit.instructionset.InstructionSet at 0x7a6884722410>"
            ]
          },
          "metadata": {},
          "execution_count": 28
        }
      ]
    },
    {
      "cell_type": "code",
      "source": [
        "mCirc.measure(np.arange(digits)+digits,range(digits)[::-1])"
      ],
      "metadata": {
        "colab": {
          "base_uri": "https://localhost:8080/"
        },
        "id": "SDqN8E2MGozt",
        "outputId": "bee8420f-0658-4180-dc6b-3467c1e70153"
      },
      "execution_count": 29,
      "outputs": [
        {
          "output_type": "execute_result",
          "data": {
            "text/plain": [
              "<qiskit.circuit.instructionset.InstructionSet at 0x7a688466a260>"
            ]
          },
          "metadata": {},
          "execution_count": 29
        }
      ]
    },
    {
      "cell_type": "code",
      "source": [
        "inputDet = sum([mCirc.data[i][0].name == 'x' or mCirc.data[i][0].name == 'id' for i in range(min(digits, len(mCirc.data)))]) == digits\n",
        "\n",
        "if inputDet < digits:\n",
        "    initGates = []\n",
        "\n",
        "    for inputIndex in range(digits):\n",
        "        qubit = mCirc.qubits[inputIndex]\n",
        "        initGates.append((Instruction('id', 1, 0, []), [qubit], []))\n",
        "\n",
        "    mCirc.data = initGates + mCirc.data\n",
        "\n",
        "mCirc.draw(output='mpl')\n"
      ],
      "metadata": {
        "colab": {
          "base_uri": "https://localhost:8080/",
          "height": 1000
        },
        "id": "jpeUBNX1HwQA",
        "outputId": "17262878-6b21-4a43-8c88-a93ffb070dc8"
      },
      "execution_count": 33,
      "outputs": [
        {
          "output_type": "execute_result",
          "data": {
            "text/plain": [
              "<Figure size 305.727x1789.28 with 1 Axes>"
            ],
            "image/png": "[encoded data removed]"
          },
          "metadata": {},
          "execution_count": 33
        }
      ]
    }
  ]
}